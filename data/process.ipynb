{
 "cells": [
  {
   "cell_type": "code",
   "execution_count": 19,
   "id": "5668ce38",
   "metadata": {},
   "outputs": [
    {
     "name": "stdout",
     "output_type": "stream",
     "text": [
      "\n",
      "\n",
      "\n"
     ]
    }
   ],
   "source": [
    "from tokenizers import Tokenizer\n",
    "from tokenizers.models import BPE\n",
    "from tokenizers.trainers import BpeTrainer\n",
    "from tokenizers.pre_tokenizers import ByteLevel\n",
    "\n",
    "\n",
    "tokenizer = Tokenizer(BPE(unk_token=\"<unk>\"))\n",
    "\n",
    "# ByteLevel 会自动按字节（近似字符）切分\n",
    "tokenizer.pre_tokenizer = ByteLevel(add_prefix_space=False)\n",
    "\n",
    "trainer = BpeTrainer(\n",
    "    vocab_size=2000,\n",
    "    min_frequency=2,\n",
    "    special_tokens=[\"<pad>\",\"<unk>\",\"<s>\",\"</s>\",\"<mask>\"],\n",
    ")\n",
    "\n",
    "tokenizer.train([\"smiles.txt\"], trainer)\n",
    "tokenizer.save(\"clean_smiles_tokenizer.json\")\n",
    "\n",
    "\n",
    "# 7. 用 transformers 加载测试\n",
    "from transformers import PreTrainedTokenizerFast\n",
    "hf_tok = PreTrainedTokenizerFast(\n",
    "    tokenizer_file=\"clean_smiles_tokenizer.json\",\n",
    "    unk_token=\"<unk>\",\n",
    "    pad_token=\"<pad>\",\n",
    "    bos_token=\"<s>\",\n",
    "    eos_token=\"</s>\",\n",
    "    mask_token=\"<mask>\",\n",
    ")\n",
    "\n",
    "\n"
   ]
  },
  {
   "cell_type": "code",
   "execution_count": null,
   "id": "f5bc67b9",
   "metadata": {},
   "outputs": [],
   "source": []
  }
 ],
 "metadata": {
  "kernelspec": {
   "display_name": "PolyDiff",
   "language": "python",
   "name": "python3"
  },
  "language_info": {
   "codemirror_mode": {
    "name": "ipython",
    "version": 3
   },
   "file_extension": ".py",
   "mimetype": "text/x-python",
   "name": "python",
   "nbconvert_exporter": "python",
   "pygments_lexer": "ipython3",
   "version": "3.11.8"
  }
 },
 "nbformat": 4,
 "nbformat_minor": 5
}
