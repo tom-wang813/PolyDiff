{
 "cells": [
  {
   "cell_type": "code",
   "execution_count": null,
   "metadata": {},
   "outputs": [
    {
     "name": "stdout",
     "output_type": "stream",
     "text": [
      "wzw/che/checkpoint_step_3.pth\n"
     ]
    }
   ],
   "source": [
    "from pathlib import Path\n",
    "\n",
    "ckpt_dir = Path(\"wzw/che\")\n",
    "def ckpt_path(step: int):\n",
    "        return ckpt_dir / f\"checkpoint_step_{step}.pth\"\n",
    "\n",
    "a = 3\n",
    "b = ckpt_path(a)\n",
    "print(b)"
   ]
  },
  {
   "cell_type": "code",
   "execution_count": 5,
   "metadata": {},
   "outputs": [
    {
     "name": "stdout",
     "output_type": "stream",
     "text": [
      "Arguments: (10,)\n",
      "[CALCULATING] fibonacci(10,) 開始計算...\n",
      "Arguments: (9,)\n",
      "[CALCULATING] fibonacci(9,) 開始計算...\n",
      "Arguments: (8,)\n",
      "[CALCULATING] fibonacci(8,) 開始計算...\n",
      "Arguments: (7,)\n",
      "[CALCULATING] fibonacci(7,) 開始計算...\n",
      "Arguments: (6,)\n",
      "[CALCULATING] fibonacci(6,) 開始計算...\n",
      "Arguments: (5,)\n",
      "[CALCULATING] fibonacci(5,) 開始計算...\n",
      "Arguments: (4,)\n",
      "[CALCULATING] fibonacci(4,) 開始計算...\n",
      "Arguments: (3,)\n",
      "[CALCULATING] fibonacci(3,) 開始計算...\n",
      "Arguments: (2,)\n",
      "[CALCULATING] fibonacci(2,) 開始計算...\n",
      "Arguments: (1,)\n",
      "[CALCULATING] fibonacci(1,) 開始計算...\n",
      "[DONE] fibonacci(1,) 花費時間: 0.000000 秒\n",
      "Arguments: (0,)\n",
      "[CALCULATING] fibonacci(0,) 開始計算...\n",
      "[DONE] fibonacci(0,) 花費時間: 0.000000 秒\n",
      "[DONE] fibonacci(2,) 花費時間: 0.000058 秒\n",
      "Arguments: (1,)\n",
      "[CACHE HIT] fibonacci(1,) 已在快取中\n",
      "[DONE] fibonacci(3,) 花費時間: 0.000109 秒\n",
      "Arguments: (2,)\n",
      "[CACHE HIT] fibonacci(2,) 已在快取中\n",
      "[DONE] fibonacci(4,) 花費時間: 0.000159 秒\n",
      "Arguments: (3,)\n",
      "[CACHE HIT] fibonacci(3,) 已在快取中\n",
      "[DONE] fibonacci(5,) 花費時間: 0.000204 秒\n",
      "Arguments: (4,)\n",
      "[CACHE HIT] fibonacci(4,) 已在快取中\n",
      "[DONE] fibonacci(6,) 花費時間: 0.000249 秒\n",
      "Arguments: (5,)\n",
      "[CACHE HIT] fibonacci(5,) 已在快取中\n",
      "[DONE] fibonacci(7,) 花費時間: 0.000295 秒\n",
      "Arguments: (6,)\n",
      "[CACHE HIT] fibonacci(6,) 已在快取中\n",
      "[DONE] fibonacci(8,) 花費時間: 0.000341 秒\n",
      "Arguments: (7,)\n",
      "[CACHE HIT] fibonacci(7,) 已在快取中\n",
      "[DONE] fibonacci(9,) 花費時間: 0.000385 秒\n",
      "Arguments: (8,)\n",
      "[CACHE HIT] fibonacci(8,) 已在快取中\n",
      "[DONE] fibonacci(10,) 花費時間: 0.000431 秒\n",
      "fibonacci(10) = 55\n",
      "==================================================\n",
      "Arguments: (9,)\n",
      "[CACHE HIT] fibonacci(9,) 已在快取中\n",
      "fibonacci(9)  = 34\n"
     ]
    }
   ],
   "source": [
    "import time\n",
    "from functools import wraps\n",
    "\n",
    "# 建立 decorator\n",
    "def timed_and_cached(func):\n",
    "    cache = {}\n",
    "\n",
    "    @wraps(func)\n",
    "    def wrapper(*args):\n",
    "        print(\"Arguments:\", args)\n",
    "\n",
    "        if args in cache:\n",
    "            print(f\"[CACHE HIT] {func.__name__}{args} 已在快取中\")\n",
    "            return cache[args]\n",
    "        \n",
    "        print(f\"[CALCULATING] {func.__name__}{args} 開始計算...\")\n",
    "        start = time.time()\n",
    "        result = func(*args)\n",
    "        end = time.time()\n",
    "        elapsed = end - start\n",
    "        print(f\"[DONE] {func.__name__}{args} 花費時間: {elapsed:.6f} 秒\")\n",
    "        \n",
    "        cache[args] = result\n",
    "        return result\n",
    "\n",
    "    return wrapper\n",
    "\n",
    "# 使用 decorator 的費波那契函數\n",
    "@timed_and_cached\n",
    "def fibonacci(n):\n",
    "    if n <= 1:\n",
    "        return n\n",
    "    return fibonacci(n-1) + fibonacci(n-2)\n",
    "\n",
    "# 測試執行\n",
    "if __name__ == \"__main__\":\n",
    "    print(f\"fibonacci(10) = {fibonacci(10)}\")\n",
    "    print(\"=\"*50)\n",
    "    print(f\"fibonacci(9)  = {fibonacci(9)}\")   # 會從 cache 中取得\n"
   ]
  },
  {
   "cell_type": "code",
   "execution_count": null,
   "metadata": {},
   "outputs": [],
   "source": []
  }
 ],
 "metadata": {
  "kernelspec": {
   "display_name": "PolyDiff",
   "language": "python",
   "name": "python3"
  },
  "language_info": {
   "codemirror_mode": {
    "name": "ipython",
    "version": 3
   },
   "file_extension": ".py",
   "mimetype": "text/x-python",
   "name": "python",
   "nbconvert_exporter": "python",
   "pygments_lexer": "ipython3",
   "version": "3.11.8"
  }
 },
 "nbformat": 4,
 "nbformat_minor": 2
}
