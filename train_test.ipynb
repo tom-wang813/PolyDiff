{
 "cells": [
  {
   "cell_type": "code",
   "execution_count": 1,
   "metadata": {},
   "outputs": [],
   "source": [
    "import torch \n",
    "import torch.nn as nn\n",
    "import torch.nn.functional as F\n",
    "import torch.optim as optim\n",
    "\n",
    "\n",
    "import numpy as np\n",
    "import matplotlib.pyplot as plt\n",
    "import pandas as pd\n",
    "\n",
    "\n",
    "from functions import AbsorbingDiffusion, CosineSchedule\n",
    "from model import DiffusionBertModel\n",
    "from configs import *\n"
   ]
  },
  {
   "cell_type": "code",
   "execution_count": 2,
   "metadata": {},
   "outputs": [
    {
     "name": "stdout",
     "output_type": "stream",
     "text": [
      "Input shape: torch.Size([5, 10])\n",
      "Output shape: torch.Size([5, 10, 5000])\n"
     ]
    }
   ],
   "source": [
    "model = DiffusionBertModel(vocab_size=vocab_size)\n",
    "\n",
    "test_x = torch.randint(0, 5000, (5, 10))\n",
    "timestep = torch.randint(0, 100, (5,))\n",
    "y = model(test_x, timestep)\n",
    "print(\"Input shape:\", test_x.shape)\n",
    "print(\"Output shape:\", y.shape)\n"
   ]
  },
  {
   "cell_type": "code",
   "execution_count": 11,
   "metadata": {},
   "outputs": [
    {
     "name": "stdout",
     "output_type": "stream",
     "text": [
      "Diffused input shape: torch.Size([5, 10])\n",
      "Diffused input: tensor([[1326, 4730, 2716, 4391, 4233,  302, 3099, 2296, 2862, 4407],\n",
      "        [   1,    1,    1,    1,    1,    1,    1, 2888,    1,    1],\n",
      "        [4131,   80,    1, 4273,    1, 1273, 3958,    1,    1,    1],\n",
      "        [3340, 4286, 3343, 3029,    1,    1, 4305,  248, 4433, 1010],\n",
      "        [   1,    1, 3112,    1,    1,    1, 4417, 3441,    1,    1]])\n"
     ]
    }
   ],
   "source": [
    "diffusion = AbsorbingDiffusion(\n",
    "    num_steps=num_steps,\n",
    "    mask_token=1,\n",
    "    schedule=CosineSchedule(num_steps=num_steps),\n",
    "    pad_token=0)\n",
    "\n",
    "\n",
    "test_x_diff = diffusion(test_x, timestep)\n",
    "print(\"Diffused input shape:\", test_x_diff.shape)\n",
    "print(\"Diffused input:\", test_x_diff)"
   ]
  },
  {
   "cell_type": "code",
   "execution_count": null,
   "metadata": {},
   "outputs": [],
   "source": [
    "#"
   ]
  },
  {
   "cell_type": "code",
   "execution_count": null,
   "metadata": {},
   "outputs": [],
   "source": []
  }
 ],
 "metadata": {
  "kernelspec": {
   "display_name": "fmodel_test",
   "language": "python",
   "name": "python3"
  },
  "language_info": {
   "codemirror_mode": {
    "name": "ipython",
    "version": 3
   },
   "file_extension": ".py",
   "mimetype": "text/x-python",
   "name": "python",
   "nbconvert_exporter": "python",
   "pygments_lexer": "ipython3",
   "version": "3.11.8"
  }
 },
 "nbformat": 4,
 "nbformat_minor": 2
}
